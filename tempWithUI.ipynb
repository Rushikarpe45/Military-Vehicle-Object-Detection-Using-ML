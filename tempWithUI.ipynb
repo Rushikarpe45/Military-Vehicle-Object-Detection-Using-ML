{
 "cells": [
  {
   "cell_type": "code",
   "execution_count": null,
   "id": "7fc567fa",
   "metadata": {},
   "outputs": [],
   "source": [
    "from flask import Flask, Response, render_template\n",
    "import cv2\n",
    "import numpy as np\n",
    "import easyocr\n",
    "import imutils"
   ]
  },
  {
   "cell_type": "code",
   "execution_count": null,
   "id": "06a5119a",
   "metadata": {},
   "outputs": [],
   "source": [
    "# Initialize Flask app\n",
    "app = Flask(__name__)"
   ]
  },
  {
   "cell_type": "code",
   "execution_count": null,
   "id": "e2167ddb",
   "metadata": {},
   "outputs": [],
   "source": [
    "# Initialize EasyOCR reader\n",
    "reader = easyocr.Reader(['en'])"
   ]
  },
  {
   "cell_type": "code",
   "execution_count": null,
   "id": "c38d4200",
   "metadata": {},
   "outputs": [],
   "source": [
    "# Function to process each frame\n",
    "def process_frame(frame):\n",
    "    try:\n",
    "        gray = cv2.cvtColor(frame, cv2.COLOR_BGR2GRAY)\n",
    "        bfilter = cv2.bilateralFilter(gray, 11, 17, 17)  # Noise reduction\n",
    "        edged = cv2.Canny(bfilter, 30, 200)  # Edge detection\n",
    "\n",
    "        # Find contours\n",
    "        keypoints = cv2.findContours(edged.copy(), cv2.RETR_TREE, cv2.CHAIN_APPROX_SIMPLE)\n",
    "        contours = imutils.grab_contours(keypoints)\n",
    "        contours = sorted(contours, key=cv2.contourArea, reverse=True)[:10]\n",
    "\n",
    "        # Loop over contours to find a rectangle\n",
    "        location = None\n",
    "        for contour in contours:\n",
    "            approx = cv2.approxPolyDP(contour, 10, True)\n",
    "            if len(approx) == 4:\n",
    "                location = approx\n",
    "                break\n",
    "\n",
    "        if location is not None:\n",
    "            mask = np.zeros(gray.shape, np.uint8)\n",
    "            cv2.drawContours(mask, [location], 0, 255, -1)\n",
    "            new_image = cv2.bitwise_and(frame, frame, mask=mask)\n",
    "            (x, y) = np.where(mask == 255)\n",
    "            (x1, y1) = (np.min(x), np.min(y))\n",
    "            (x2, y2) = (np.max(x), np.max(y))\n",
    "            cropped_image = gray[x1:x2 + 1, y1:y2 + 1]\n",
    "\n",
    "            # OCR on the cropped image\n",
    "            result = reader.readtext(cropped_image)\n",
    "            if result:\n",
    "                text = result[0][-2]\n",
    "                font = cv2.FONT_HERSHEY_SIMPLEX\n",
    "                frame = cv2.putText(\n",
    "                    frame,\n",
    "                    text=text,\n",
    "                    org=(approx[0][0][0], approx[1][0][1] + 60),\n",
    "                    fontFace=font,\n",
    "                    fontScale=1,\n",
    "                    color=(0, 255, 0),\n",
    "                    thickness=2,\n",
    "                    lineType=cv2.LINE_AA\n",
    "                )\n",
    "                frame = cv2.rectangle(frame, tuple(approx[0][0]), tuple(approx[2][0]), (0, 255, 0), 3)\n",
    "\n",
    "        return frame\n",
    "    except Exception as e:\n",
    "        print(f\"Error processing frame: {e}\")\n",
    "        return frame\n"
   ]
  },
  {
   "cell_type": "code",
   "execution_count": null,
   "id": "93d5a4f1",
   "metadata": {},
   "outputs": [],
   "source": [
    "# Video streaming generator\n",
    "def generate_frames():\n",
    "    camera = cv2.VideoCapture(0)  # Use the first webcam\n",
    "    while True:\n",
    "        success, frame = camera.read()\n",
    "        if not success:\n",
    "            break\n",
    "        else:\n",
    "            frame = process_frame(frame)\n",
    "            _, buffer = cv2.imencode('.jpg', frame)\n",
    "            frame_bytes = buffer.tobytes()\n",
    "            yield (b'--frame\\r\\n'\n",
    "                   b'Content-Type: image/jpeg\\r\\n\\r\\n' + frame_bytes + b'\\r\\n')\n"
   ]
  },
  {
   "cell_type": "code",
   "execution_count": null,
   "id": "d385c12d",
   "metadata": {},
   "outputs": [],
   "source": [
    "# Flask route to serve video feed\n",
    "@app.route('/video_feed')\n",
    "def video_feed():\n",
    "    return Response(generate_frames(), mimetype='multipart/x-mixed-replace; boundary=frame')\n",
    "\n",
    "# Flask route to serve the homepage\n",
    "@app.route('/')\n",
    "def index():\n",
    "    return render_template('index.html')  # You can create a simple index.html\n",
    "\n",
    "# Run the Flask app\n",
    "if __name__ == '__main__':\n",
    "    app.run(debug=True)"
   ]
  }
 ],
 "metadata": {
  "kernelspec": {
   "display_name": "Python 3",
   "language": "python",
   "name": "python3"
  },
  "language_info": {
   "codemirror_mode": {
    "name": "ipython",
    "version": 3
   },
   "file_extension": ".py",
   "mimetype": "text/x-python",
   "name": "python",
   "nbconvert_exporter": "python",
   "pygments_lexer": "ipython3",
   "version": "3.12.5"
  }
 },
 "nbformat": 4,
 "nbformat_minor": 5
}
